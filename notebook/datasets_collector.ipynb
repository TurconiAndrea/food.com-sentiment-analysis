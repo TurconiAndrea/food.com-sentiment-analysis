{
 "metadata": {
  "language_info": {
   "codemirror_mode": {
    "name": "ipython",
    "version": 3
   },
   "file_extension": ".py",
   "mimetype": "text/x-python",
   "name": "python",
   "nbconvert_exporter": "python",
   "pygments_lexer": "ipython3",
   "version": "3.8.9"
  },
  "orig_nbformat": 2,
  "kernelspec": {
   "name": "pythonjvsc74a57bd00807f666c06574d171522a5ce55d45dae20fa39d39d80c1fc2dd8f62ec1558a2",
   "display_name": "Python 3.8.9  ('venv': venv)"
  },
  "metadata": {
   "interpreter": {
    "hash": "0807f666c06574d171522a5ce55d45dae20fa39d39d80c1fc2dd8f62ec1558a2"
   }
  }
 },
 "nbformat": 4,
 "nbformat_minor": 2,
 "cells": [
  {
   "source": [
    "# Food.com Dataset Collector\n",
    "\n",
    "Source: https://www.kaggle.com/shuyangli94/food-com-recipes-and-user-interactions"
   ],
   "cell_type": "markdown",
   "metadata": {}
  },
  {
   "cell_type": "code",
   "execution_count": 15,
   "metadata": {},
   "outputs": [],
   "source": [
    "import pandas as pd"
   ]
  },
  {
   "source": [
    "## Exploratory dataset analysis\n",
    "\n",
    "This dataset consists of 180K+ recipes and 700K+ recipe reviews covering 18 years of user interactions and uploads on Food.com (formerly GeniusKitchen).\n",
    "\n",
    "The dataset provides two files, called RAW_recipes and RAW_interactions, that represents respectively the recipes, along with all the informations, and the reviews prodived by different users.  "
   ],
   "cell_type": "markdown",
   "metadata": {}
  },
  {
   "cell_type": "code",
   "execution_count": 16,
   "metadata": {},
   "outputs": [],
   "source": [
    "recipes_path = '../provided_datasets/food.com/RAW_recipes.csv'\n",
    "reviews_path = '../provided_datasets/food.com/RAW_interactions.csv'"
   ]
  },
  {
   "source": [
    "The first dataset analyzed is the one that contains all the recipes informations. As it is possible to see in the table below, a recipe is composed by: \n",
    "- Name\n",
    "- Id\n",
    "- Minutes (Time of cooking)\n",
    "- Contributor Id\n",
    "- Date of submission\n",
    "- Tags\n",
    "- Nutrition information\n",
    "- Number of steps for cooking\n",
    "- Description of the cooking steps\n",
    "- Description of the recipe\n",
    "- Ingredients used in the recipe\n",
    "- Number of ingredients used in the recipe"
   ],
   "cell_type": "markdown",
   "metadata": {}
  },
  {
   "cell_type": "code",
   "execution_count": 17,
   "metadata": {},
   "outputs": [
    {
     "output_type": "execute_result",
     "data": {
      "text/plain": [
       "                                         name      id  minutes  \\\n",
       "0  arriba   baked winter squash mexican style  137739       55   \n",
       "1            a bit different  breakfast pizza   31490       30   \n",
       "\n",
       "   contributor_id   submitted  \\\n",
       "0           47892  2005-09-16   \n",
       "1           26278  2002-06-17   \n",
       "\n",
       "                                                tags  \\\n",
       "0  ['60-minutes-or-less', 'time-to-make', 'course...   \n",
       "1  ['30-minutes-or-less', 'time-to-make', 'course...   \n",
       "\n",
       "                                   nutrition  n_steps  \\\n",
       "0      [51.5, 0.0, 13.0, 0.0, 2.0, 0.0, 4.0]       11   \n",
       "1  [173.4, 18.0, 0.0, 17.0, 22.0, 35.0, 1.0]        9   \n",
       "\n",
       "                                               steps  \\\n",
       "0  ['make a choice and proceed with recipe', 'dep...   \n",
       "1  ['preheat oven to 425 degrees f', 'press dough...   \n",
       "\n",
       "                                         description  \\\n",
       "0  autumn is my favorite time of year to cook! th...   \n",
       "1  this recipe calls for the crust to be prebaked...   \n",
       "\n",
       "                                         ingredients  n_ingredients  \n",
       "0  ['winter squash', 'mexican seasoning', 'mixed ...              7  \n",
       "1  ['prepared pizza crust', 'sausage patty', 'egg...              6  "
      ],
      "text/html": "<div>\n<style scoped>\n    .dataframe tbody tr th:only-of-type {\n        vertical-align: middle;\n    }\n\n    .dataframe tbody tr th {\n        vertical-align: top;\n    }\n\n    .dataframe thead th {\n        text-align: right;\n    }\n</style>\n<table border=\"1\" class=\"dataframe\">\n  <thead>\n    <tr style=\"text-align: right;\">\n      <th></th>\n      <th>name</th>\n      <th>id</th>\n      <th>minutes</th>\n      <th>contributor_id</th>\n      <th>submitted</th>\n      <th>tags</th>\n      <th>nutrition</th>\n      <th>n_steps</th>\n      <th>steps</th>\n      <th>description</th>\n      <th>ingredients</th>\n      <th>n_ingredients</th>\n    </tr>\n  </thead>\n  <tbody>\n    <tr>\n      <th>0</th>\n      <td>arriba   baked winter squash mexican style</td>\n      <td>137739</td>\n      <td>55</td>\n      <td>47892</td>\n      <td>2005-09-16</td>\n      <td>['60-minutes-or-less', 'time-to-make', 'course...</td>\n      <td>[51.5, 0.0, 13.0, 0.0, 2.0, 0.0, 4.0]</td>\n      <td>11</td>\n      <td>['make a choice and proceed with recipe', 'dep...</td>\n      <td>autumn is my favorite time of year to cook! th...</td>\n      <td>['winter squash', 'mexican seasoning', 'mixed ...</td>\n      <td>7</td>\n    </tr>\n    <tr>\n      <th>1</th>\n      <td>a bit different  breakfast pizza</td>\n      <td>31490</td>\n      <td>30</td>\n      <td>26278</td>\n      <td>2002-06-17</td>\n      <td>['30-minutes-or-less', 'time-to-make', 'course...</td>\n      <td>[173.4, 18.0, 0.0, 17.0, 22.0, 35.0, 1.0]</td>\n      <td>9</td>\n      <td>['preheat oven to 425 degrees f', 'press dough...</td>\n      <td>this recipe calls for the crust to be prebaked...</td>\n      <td>['prepared pizza crust', 'sausage patty', 'egg...</td>\n      <td>6</td>\n    </tr>\n  </tbody>\n</table>\n</div>"
     },
     "metadata": {},
     "execution_count": 17
    }
   ],
   "source": [
    "recipes_df = pd.read_csv(recipes_path)\n",
    "recipes_df[:2]"
   ]
  },
  {
   "source": [
    "From the below information it is possible to get a clear overview of the complete dataset: the recipes dataset contains 231637 recipes with 230186 of them uniques. The remaning 1451 recipes differs from the other with the same name by ingredients and cooking steps. "
   ],
   "cell_type": "markdown",
   "metadata": {}
  },
  {
   "cell_type": "code",
   "execution_count": 18,
   "metadata": {},
   "outputs": [
    {
     "output_type": "stream",
     "name": "stdout",
     "text": [
      "Number of recipes in the dataset: 231637\nNumber of unique recipes in the dataset: 230186\nNumber of recipes with same name but different ingredients: 1451\nNumber of NaN values in the dataset: 4980\n"
     ]
    }
   ],
   "source": [
    "print('Number of recipes in the dataset:', recipes_df.shape[0])\n",
    "print('Number of unique recipes in the dataset:', len(recipes_df['name'].unique()))\n",
    "print('Number of recipes with same name but different ingredients:', recipes_df.shape[0] - len(recipes_df['name'].unique()))\n",
    "print('Number of NaN values in the dataset:', recipes_df.isna().sum().sum())"
   ]
  },
  {
   "source": [
    "The dataset contains also null values (4980). It is mandatory to investigate in which of the previuos explained columns the NaN values are present. From the following informations it is possible to say that the NaN values are contained for the most into the \"description\" column. Only one fo the 4980 null values is contained into the name column.  "
   ],
   "cell_type": "markdown",
   "metadata": {}
  },
  {
   "cell_type": "code",
   "execution_count": 19,
   "metadata": {},
   "outputs": [
    {
     "output_type": "execute_result",
     "data": {
      "text/plain": [
       "name                 1\n",
       "id                   0\n",
       "minutes              0\n",
       "contributor_id       0\n",
       "submitted            0\n",
       "tags                 0\n",
       "nutrition            0\n",
       "n_steps              0\n",
       "steps                0\n",
       "description       4979\n",
       "ingredients          0\n",
       "n_ingredients        0\n",
       "dtype: int64"
      ]
     },
     "metadata": {},
     "execution_count": 19
    }
   ],
   "source": [
    "recipes_df.isna().sum()"
   ]
  },
  {
   "source": [
    "Since the scope of this project is to provide a sentiment analysis of the recipes reviews it is possible to ignore the NaN values in the recipe description column and replace them with an empty string. Instead, the only row containg the NaN value in the name column will be dropped because the name is an important feature for the recipe."
   ],
   "cell_type": "markdown",
   "metadata": {}
  },
  {
   "cell_type": "code",
   "execution_count": 20,
   "metadata": {},
   "outputs": [
    {
     "output_type": "execute_result",
     "data": {
      "text/plain": [
       "name              0\n",
       "id                0\n",
       "minutes           0\n",
       "contributor_id    0\n",
       "submitted         0\n",
       "tags              0\n",
       "nutrition         0\n",
       "n_steps           0\n",
       "steps             0\n",
       "description       0\n",
       "ingredients       0\n",
       "n_ingredients     0\n",
       "dtype: int64"
      ]
     },
     "metadata": {},
     "execution_count": 20
    }
   ],
   "source": [
    "recipes_df = recipes_df.dropna(subset=['name'])\n",
    "recipes_df = recipes_df.fillna('')\n",
    "recipes_df.isna().sum()"
   ]
  },
  {
   "source": [
    "To simplify the learning process, it is possible to save the mentioned dataset in a csv file, in order to be subsequently loaded by the model."
   ],
   "cell_type": "markdown",
   "metadata": {}
  },
  {
   "source": [
    "recipes_df.to_csv('../exported_datasets/food.com/recipes.csv', index=False, header=True)"
   ],
   "cell_type": "code",
   "metadata": {},
   "execution_count": 21,
   "outputs": []
  },
  {
   "source": [
    "The other dataset analyzed is the one that contains all the reviews informations. As it is possible to see in the table below, a review is composed by: \n",
    "- Id of the user who wrote the review\n",
    "- Id of the recipe related to the review\n",
    "- Date of the review\n",
    "- Rating given to the review\n",
    "- Review "
   ],
   "cell_type": "markdown",
   "metadata": {}
  },
  {
   "cell_type": "code",
   "execution_count": 22,
   "metadata": {},
   "outputs": [
    {
     "output_type": "execute_result",
     "data": {
      "text/plain": [
       "   user_id  recipe_id        date  rating  \\\n",
       "0    38094      40893  2003-02-17       4   \n",
       "1  1293707      40893  2011-12-21       5   \n",
       "2     8937      44394  2002-12-01       4   \n",
       "3   126440      85009  2010-02-27       5   \n",
       "4    57222      85009  2011-10-01       5   \n",
       "\n",
       "                                              review  \n",
       "0  Great with a salad. Cooked on top of stove for...  \n",
       "1  So simple, so delicious! Great for chilly fall...  \n",
       "2  This worked very well and is EASY.  I used not...  \n",
       "3  I made the Mexican topping and took it to bunk...  \n",
       "4  Made the cheddar bacon topping, adding a sprin...  "
      ],
      "text/html": "<div>\n<style scoped>\n    .dataframe tbody tr th:only-of-type {\n        vertical-align: middle;\n    }\n\n    .dataframe tbody tr th {\n        vertical-align: top;\n    }\n\n    .dataframe thead th {\n        text-align: right;\n    }\n</style>\n<table border=\"1\" class=\"dataframe\">\n  <thead>\n    <tr style=\"text-align: right;\">\n      <th></th>\n      <th>user_id</th>\n      <th>recipe_id</th>\n      <th>date</th>\n      <th>rating</th>\n      <th>review</th>\n    </tr>\n  </thead>\n  <tbody>\n    <tr>\n      <th>0</th>\n      <td>38094</td>\n      <td>40893</td>\n      <td>2003-02-17</td>\n      <td>4</td>\n      <td>Great with a salad. Cooked on top of stove for...</td>\n    </tr>\n    <tr>\n      <th>1</th>\n      <td>1293707</td>\n      <td>40893</td>\n      <td>2011-12-21</td>\n      <td>5</td>\n      <td>So simple, so delicious! Great for chilly fall...</td>\n    </tr>\n    <tr>\n      <th>2</th>\n      <td>8937</td>\n      <td>44394</td>\n      <td>2002-12-01</td>\n      <td>4</td>\n      <td>This worked very well and is EASY.  I used not...</td>\n    </tr>\n    <tr>\n      <th>3</th>\n      <td>126440</td>\n      <td>85009</td>\n      <td>2010-02-27</td>\n      <td>5</td>\n      <td>I made the Mexican topping and took it to bunk...</td>\n    </tr>\n    <tr>\n      <th>4</th>\n      <td>57222</td>\n      <td>85009</td>\n      <td>2011-10-01</td>\n      <td>5</td>\n      <td>Made the cheddar bacon topping, adding a sprin...</td>\n    </tr>\n  </tbody>\n</table>\n</div>"
     },
     "metadata": {},
     "execution_count": 22
    }
   ],
   "source": [
    "reviews_df = pd.read_csv(reviews_path)\n",
    "reviews_df.head()"
   ]
  },
  {
   "source": [
    "From the below information it is possible to get a clear overview of the complete dataset: the reviews dataset contains 1132367 unique recipes. The reviews are written by 226570 unique users and covers 231637 recipes. "
   ],
   "cell_type": "markdown",
   "metadata": {}
  },
  {
   "cell_type": "code",
   "execution_count": 23,
   "metadata": {},
   "outputs": [
    {
     "output_type": "stream",
     "name": "stdout",
     "text": [
      "Number of reviews in the dataset: 1132367\n",
      "Number of unique users reviews: 226570\n",
      "Number of unique recipe reviews: 231637\n",
      "Number of NaN values in the dataset: 169\n"
     ]
    }
   ],
   "source": [
    "print('Number of reviews in the dataset:', reviews_df.shape[0])\n",
    "print('Number of unique users reviews:', len(reviews_df.groupby('user_id')['rating'].count().index))\n",
    "print('Number of unique recipe reviews:', len(reviews_df.groupby('recipe_id')['rating'].count().index))\n",
    "print('Number of NaN values in the dataset:', reviews_df.isna().sum().sum())"
   ]
  },
  {
   "source": [
    "The dataset contains also null values (169). It is mandatory to investigate in which of the previuos explained columns the NaN values are present. From the following informations it is possible to say that all the NaN values are contained in the review column. Since this column is mandatory for the scope of this project, the reviews without descriptions are dropped."
   ],
   "cell_type": "markdown",
   "metadata": {}
  },
  {
   "cell_type": "code",
   "execution_count": 24,
   "metadata": {},
   "outputs": [
    {
     "output_type": "execute_result",
     "data": {
      "text/plain": [
       "user_id        0\n",
       "recipe_id      0\n",
       "date           0\n",
       "rating         0\n",
       "review       169\n",
       "dtype: int64"
      ]
     },
     "metadata": {},
     "execution_count": 24
    }
   ],
   "source": [
    "reviews_df.isna().sum()"
   ]
  },
  {
   "cell_type": "code",
   "execution_count": 25,
   "metadata": {},
   "outputs": [
    {
     "output_type": "execute_result",
     "data": {
      "text/plain": [
       "user_id      0\n",
       "recipe_id    0\n",
       "date         0\n",
       "rating       0\n",
       "review       0\n",
       "dtype: int64"
      ]
     },
     "metadata": {},
     "execution_count": 25
    }
   ],
   "source": [
    "reviews_df = reviews_df.dropna()\n",
    "reviews_df.isna().sum()"
   ]
  },
  {
   "source": [
    "To simplify the learning process, it is possible to save the mentioned dataset in a csv file, in order to be subsequently loaded by the model."
   ],
   "cell_type": "markdown",
   "metadata": {}
  },
  {
   "cell_type": "code",
   "execution_count": 26,
   "metadata": {},
   "outputs": [],
   "source": [
    "reviews_df.to_csv('../exported_datasets/food.com/reviews.csv', index=False, header=True)"
   ]
  },
  {
   "cell_type": "code",
   "execution_count": 30,
   "metadata": {},
   "outputs": [
    {
     "output_type": "execute_result",
     "data": {
      "text/plain": [
       "\"The last time I tried a bulgur / pumpkin combination, I was disappointed -- even though I like both ingredients -- so I was wary of trying this recipe.  But I am so glad I did, because it was wonderful!  I skipped the oil altogether and didn't miss it.  I also used a buttercup squash instead of pumpkin, and crushed bay leaves since that was all I had; and consomme instead of the vegetable broth.  The curry powder lent such a pretty color to the dish but the flavor wasn't at all overpowering.  Thanks for posting!\""
      ]
     },
     "metadata": {},
     "execution_count": 30
    }
   ],
   "source": [
    "reviews_df['review'].iloc[100]"
   ]
  },
  {
   "cell_type": "code",
   "execution_count": null,
   "metadata": {},
   "outputs": [],
   "source": []
  }
 ]
}